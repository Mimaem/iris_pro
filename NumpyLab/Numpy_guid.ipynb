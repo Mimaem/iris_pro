{
 "cells": [
  {
   "cell_type": "markdown",
   "metadata": {},
   "source": [
    "### Step1: import numpy"
   ]
  },
  {
   "cell_type": "code",
   "execution_count": 1,
   "metadata": {},
   "outputs": [],
   "source": [
    "import numpy as np"
   ]
  },
  {
   "cell_type": "markdown",
   "metadata": {},
   "source": [
    "### 2. Arry in numpy"
   ]
  },
  {
   "cell_type": "code",
   "execution_count": 9,
   "metadata": {},
   "outputs": [
    {
     "name": "stdout",
     "output_type": "stream",
     "text": [
      "10\n",
      "[1 2 3]\n",
      "[[1]\n",
      " [2]\n",
      " [3]]\n",
      "[[10 11 12]\n",
      " [13 14 15]\n",
      " [16 17 18]]\n"
     ]
    }
   ],
   "source": [
    "## 2.1 Scalar array\n",
    "a= np.array(10)\n",
    "print(a)\n",
    "\n",
    "## 2.2 Vactor array\n",
    "b= np.array([1,2,3])\n",
    "print(b)\n",
    "\n",
    "## 2.3 Matrix array\n",
    "c= np.array([[1], [2], [3]]) # 3 row and 1 column\n",
    "d= np.array([[1,2], [2,3], [3,4]]) # 3 rows and 2 column\n",
    "matrix= np.array([[10,11,12], [13,14,15]]) ## 2rows and 3 column 2*3\n",
    "print(c)\n",
    "print(matrix)"
   ]
  },
  {
   "cell_type": "markdown",
   "metadata": {},
   "source": [
    "### 3. finding statistic value by numpy"
   ]
  },
  {
   "cell_type": "code",
   "execution_count": 14,
   "metadata": {},
   "outputs": [
    {
     "name": "stdout",
     "output_type": "stream",
     "text": [
      "[[ 1  2  3  4]\n",
      " [ 5  6  7  8]\n",
      " [ 9 10 11 12]]\n",
      "Max: 12\n",
      "Min: 1\n",
      "Mean: 6.5\n",
      "median: 6.5\n",
      "Standard deviation: 3.452052529534663\n",
      "Varience: 11.916666666666666\n"
     ]
    }
   ],
   "source": [
    "stat = np.array([[1,2,3,4], [5,6,7,8],[9,10,11,12]]) # 3x4 matrix\n",
    "print(stat)\n",
    "\n",
    "## find max and min value\n",
    "\n",
    "print('Max:', np.max(stat))\n",
    "print('Min:', np.min(stat))\n",
    "print('Mean:', np.mean(stat))\n",
    "print('median:', np.median(stat))\n",
    "print('Standard deviation:', np.std(stat)) #  ຄ່າບ່ຽງເບນ\n",
    "print('Varience:', np.var(stat)) # ຄ່າແປປວນ"
   ]
  }
 ],
 "metadata": {
  "kernelspec": {
   "display_name": "ENV",
   "language": "python",
   "name": "python3"
  },
  "language_info": {
   "codemirror_mode": {
    "name": "ipython",
    "version": 3
   },
   "file_extension": ".py",
   "mimetype": "text/x-python",
   "name": "python",
   "nbconvert_exporter": "python",
   "pygments_lexer": "ipython3",
   "version": "3.11.4"
  },
  "orig_nbformat": 4
 },
 "nbformat": 4,
 "nbformat_minor": 2
}
